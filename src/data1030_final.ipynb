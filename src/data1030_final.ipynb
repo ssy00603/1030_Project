{
 "cells": [
  {
   "cell_type": "code",
   "execution_count": 56,
   "metadata": {},
   "outputs": [
    {
     "name": "stdout",
     "output_type": "stream",
     "text": [
      "(9168, 12)\n"
     ]
    },
    {
     "data": {
      "text/html": [
       "<div>\n",
       "<style scoped>\n",
       "    .dataframe tbody tr th:only-of-type {\n",
       "        vertical-align: middle;\n",
       "    }\n",
       "\n",
       "    .dataframe tbody tr th {\n",
       "        vertical-align: top;\n",
       "    }\n",
       "\n",
       "    .dataframe thead th {\n",
       "        text-align: right;\n",
       "    }\n",
       "</style>\n",
       "<table border=\"1\" class=\"dataframe\">\n",
       "  <thead>\n",
       "    <tr style=\"text-align: right;\">\n",
       "      <th></th>\n",
       "      <th>MarketingFlags</th>\n",
       "      <th>category</th>\n",
       "      <th>exclusive</th>\n",
       "      <th>limited_edition</th>\n",
       "      <th>limited_time_offer</th>\n",
       "      <th>love</th>\n",
       "      <th>number_of_reviews</th>\n",
       "      <th>online_only</th>\n",
       "      <th>price</th>\n",
       "      <th>rating</th>\n",
       "      <th>size</th>\n",
       "      <th>value_price</th>\n",
       "    </tr>\n",
       "  </thead>\n",
       "  <tbody>\n",
       "    <tr>\n",
       "      <th>0</th>\n",
       "      <td>True</td>\n",
       "      <td>Fragrance</td>\n",
       "      <td>0</td>\n",
       "      <td>0</td>\n",
       "      <td>0</td>\n",
       "      <td>3002</td>\n",
       "      <td>4</td>\n",
       "      <td>1</td>\n",
       "      <td>66.0</td>\n",
       "      <td>4.0</td>\n",
       "      <td>5 x 0.16oz/5mL</td>\n",
       "      <td>75.0</td>\n",
       "    </tr>\n",
       "    <tr>\n",
       "      <th>1</th>\n",
       "      <td>True</td>\n",
       "      <td>Cologne</td>\n",
       "      <td>0</td>\n",
       "      <td>0</td>\n",
       "      <td>0</td>\n",
       "      <td>2700</td>\n",
       "      <td>76</td>\n",
       "      <td>1</td>\n",
       "      <td>66.0</td>\n",
       "      <td>4.5</td>\n",
       "      <td>0.7 oz/ 20 mL</td>\n",
       "      <td>66.0</td>\n",
       "    </tr>\n",
       "    <tr>\n",
       "      <th>2</th>\n",
       "      <td>True</td>\n",
       "      <td>Perfume</td>\n",
       "      <td>0</td>\n",
       "      <td>0</td>\n",
       "      <td>0</td>\n",
       "      <td>2600</td>\n",
       "      <td>26</td>\n",
       "      <td>1</td>\n",
       "      <td>180.0</td>\n",
       "      <td>4.5</td>\n",
       "      <td>5 oz/ 148 mL</td>\n",
       "      <td>180.0</td>\n",
       "    </tr>\n",
       "    <tr>\n",
       "      <th>3</th>\n",
       "      <td>True</td>\n",
       "      <td>Perfume</td>\n",
       "      <td>0</td>\n",
       "      <td>0</td>\n",
       "      <td>0</td>\n",
       "      <td>2900</td>\n",
       "      <td>23</td>\n",
       "      <td>1</td>\n",
       "      <td>120.0</td>\n",
       "      <td>4.5</td>\n",
       "      <td>2.5 oz/ 74 mL</td>\n",
       "      <td>120.0</td>\n",
       "    </tr>\n",
       "    <tr>\n",
       "      <th>4</th>\n",
       "      <td>True</td>\n",
       "      <td>Fragrance</td>\n",
       "      <td>0</td>\n",
       "      <td>0</td>\n",
       "      <td>0</td>\n",
       "      <td>943</td>\n",
       "      <td>2</td>\n",
       "      <td>1</td>\n",
       "      <td>72.0</td>\n",
       "      <td>3.5</td>\n",
       "      <td>5 x 0.16oz/5mL</td>\n",
       "      <td>80.0</td>\n",
       "    </tr>\n",
       "  </tbody>\n",
       "</table>\n",
       "</div>"
      ],
      "text/plain": [
       "   MarketingFlags   category  exclusive  limited_edition  limited_time_offer  \\\n",
       "0            True  Fragrance          0                0                   0   \n",
       "1            True    Cologne          0                0                   0   \n",
       "2            True    Perfume          0                0                   0   \n",
       "3            True    Perfume          0                0                   0   \n",
       "4            True  Fragrance          0                0                   0   \n",
       "\n",
       "   love  number_of_reviews  online_only  price  rating            size  \\\n",
       "0  3002                  4            1   66.0     4.0  5 x 0.16oz/5mL   \n",
       "1  2700                 76            1   66.0     4.5   0.7 oz/ 20 mL   \n",
       "2  2600                 26            1  180.0     4.5    5 oz/ 148 mL   \n",
       "3  2900                 23            1  120.0     4.5   2.5 oz/ 74 mL   \n",
       "4   943                  2            1   72.0     3.5  5 x 0.16oz/5mL   \n",
       "\n",
       "   value_price  \n",
       "0         75.0  \n",
       "1         66.0  \n",
       "2        180.0  \n",
       "3        120.0  \n",
       "4         80.0  "
      ]
     },
     "execution_count": 56,
     "metadata": {},
     "output_type": "execute_result"
    }
   ],
   "source": [
    "import numpy as np\n",
    "import pandas as pd\n",
    "import statistics as stats\n",
    "import matplotlib\n",
    "from matplotlib import pylab as plt\n",
    "\n",
    "# Classification - target variable: rating\n",
    "df = pd.read_csv('../data/sephora_website_dataset.csv')\n",
    "# Drop 'MarketingFlags_content' becasue it has redundant information\n",
    "groups = df['id']\n",
    "df = df[df.columns.difference(['options', 'details', 'how_to_use', 'ingredients', 'URL','MarketingFlags_content','id','name','brand'])]\n",
    "print(df.shape)\n",
    "df.head()"
   ]
  },
  {
   "cell_type": "code",
   "execution_count": 57,
   "metadata": {},
   "outputs": [],
   "source": [
    "import warnings\n",
    "from sklearn.exceptions import DataConversionWarning\n",
    "from sklearn.exceptions import ConvergenceWarning\n",
    "\n",
    "warnings.filterwarnings(action='ignore', category=DataConversionWarning)\n",
    "warnings.filterwarnings(action='ignore', category=ConvergenceWarning)"
   ]
  },
  {
   "cell_type": "code",
   "execution_count": 58,
   "metadata": {},
   "outputs": [],
   "source": [
    "from sklearn.model_selection import GroupShuffleSplit, GroupKFold, GridSearchCV\n",
    "from sklearn.pipeline import make_pipeline\n",
    "from sklearn.compose import ColumnTransformer\n",
    "from sklearn.pipeline import Pipeline\n",
    "from sklearn.preprocessing import StandardScaler, OneHotEncoder, OrdinalEncoder\n",
    "from sklearn.model_selection import train_test_split\n",
    "from sklearn.model_selection import StratifiedKFold, KFold\n",
    "\n",
    "from sklearn import svm\n",
    "from sklearn import linear_model\n",
    "from sklearn.linear_model import Lasso, Ridge, ElasticNet\n",
    "from sklearn import tree\n",
    "from sklearn.ensemble import RandomForestRegressor\n",
    "from sklearn.metrics import make_scorer, mean_squared_error, r2_score\n",
    "\n",
    "def ML_pipeline_kfold_GridSearchCV(X, y, groups, model, param_grid, random_state, n_folds):\n",
    "    splitter = GroupShuffleSplit(n_splits=1,test_size=0.2,random_state=random_state)\n",
    "    for i_other,i_test in splitter.split(X, y, groups):\n",
    "        X_other, y_other, groups_other = X.iloc[i_other], y.iloc[i_other], groups.iloc[i_other]\n",
    "        X_test, y_test, groups_test = X.iloc[i_test], y.iloc[i_test], groups.iloc[i_test]\n",
    "        y_other, y_test = y_other.values.ravel(), y_test.values.ravel()\n",
    "\n",
    "    kf = GroupKFold(n_splits=n_folds)\n",
    "    \n",
    "    cont_ftrs = ['love', 'number_of_reviews', 'price']\n",
    "    cat_ftrs = ['MarketingFlags', 'category', 'exclusive', 'limited_edition', 'limited_time_offer','online_only']\n",
    "\n",
    "    # one-hot encoder\n",
    "    categorical_transformer = Pipeline(steps=[\n",
    "        ('onehot', OneHotEncoder(sparse=False,handle_unknown='ignore'))])\n",
    "    # standard scaler\n",
    "    numeric_transformer = Pipeline(steps=[\n",
    "        ('scaler', StandardScaler())])\n",
    "    \n",
    "    preprocessor = ColumnTransformer(\n",
    "        transformers=[\n",
    "            ('num', numeric_transformer, cont_ftrs),\n",
    "            ('cat', categorical_transformer, cat_ftrs)])\n",
    "    \n",
    "    pipe = make_pipeline(preprocessor, model)\n",
    "    grid = GridSearchCV(pipe, param_grid = param_grid, scoring=make_scorer(mean_squared_error, greater_is_better=False),\n",
    "                        cv=kf, return_train_score=True)\n",
    "    grid.fit(X_other, y_other, groups=groups_other)\n",
    "    feature_names = cont_ftrs + \\\n",
    "                list(grid.best_estimator_[0].named_transformers_['cat'][0].get_feature_names(cat_ftrs))\n",
    "    return grid, np.array(feature_names), X_test, y_test, grid.score(X_test, y_test)"
   ]
  },
  {
   "cell_type": "code",
   "execution_count": 59,
   "metadata": {},
   "outputs": [],
   "source": [
    "# Extraxt categorical columns\n",
    "def cat_cols(df, col = df.columns):\n",
    "    cat = []\n",
    "    for name in col:\n",
    "        if len(df[name].value_counts()) < 3:\n",
    "            cat.append(name)\n",
    "    return cat\n",
    "\n",
    "categorical_cols = cat_cols(df)\n",
    "categorical_cols.append('rating')\n",
    "# Extraxt continuous columns\n",
    "continuous_cols = list(df[df.columns.difference(categorical_cols)].columns)"
   ]
  },
  {
   "cell_type": "code",
   "execution_count": 60,
   "metadata": {},
   "outputs": [],
   "source": [
    "df2 = df[df.columns.difference(['brand', 'id', 'name', 'size', 'value_price', 'price_level', 'unit_price'])]\n",
    "X = df2.loc[:,df2.columns!='rating']\n",
    "y = df2.loc[:,df2.columns=='rating']"
   ]
  },
  {
   "cell_type": "code",
   "execution_count": 61,
   "metadata": {},
   "outputs": [
    {
     "name": "stdout",
     "output_type": "stream",
     "text": [
      "Pipeline(steps=[('columntransformer',\n",
      "                 ColumnTransformer(transformers=[('num',\n",
      "                                                  Pipeline(steps=[('scaler',\n",
      "                                                                   StandardScaler())]),\n",
      "                                                  ['love', 'number_of_reviews',\n",
      "                                                   'price']),\n",
      "                                                 ('cat',\n",
      "                                                  Pipeline(steps=[('onehot',\n",
      "                                                                   OneHotEncoder(handle_unknown='ignore',\n",
      "                                                                                 sparse=False))]),\n",
      "                                                  ['MarketingFlags', 'category',\n",
      "                                                   'exclusive',\n",
      "                                                   'limited_edition',\n",
      "                                                   'limited_time_offer',\n",
      "                                                   'online_only'])])),\n",
      "                ('lasso', Lasso(alpha=0.001, max_iter=1000000))])\n",
      "best CV MSE: 0.914\n",
      "test MSE: 1.067\n"
     ]
    }
   ],
   "source": [
    "# Lasso\n",
    "lasso_param_grid = {'lasso__alpha': np.logspace(-3, 3, num=7)}\n",
    "lasso_grid, ftrs, X_test, y_test, lasso_test_score = ML_pipeline_kfold_GridSearchCV(X, y, groups, Lasso(max_iter=1000000), lasso_param_grid, 63, 5)\n",
    "lasso_results = pd.DataFrame(lasso_grid.cv_results_)\n",
    "print(lasso_grid.best_estimator_)\n",
    "print('best CV MSE:', -np.around(lasso_grid.best_score_, 3))\n",
    "print('test MSE:', -np.around(lasso_test_score, 3))"
   ]
  },
  {
   "cell_type": "code",
   "execution_count": 62,
   "metadata": {},
   "outputs": [
    {
     "name": "stdout",
     "output_type": "stream",
     "text": [
      "Pipeline(steps=[('columntransformer',\n",
      "                 ColumnTransformer(transformers=[('num',\n",
      "                                                  Pipeline(steps=[('scaler',\n",
      "                                                                   StandardScaler())]),\n",
      "                                                  ['love', 'number_of_reviews',\n",
      "                                                   'price']),\n",
      "                                                 ('cat',\n",
      "                                                  Pipeline(steps=[('onehot',\n",
      "                                                                   OneHotEncoder(handle_unknown='ignore',\n",
      "                                                                                 sparse=False))]),\n",
      "                                                  ['MarketingFlags', 'category',\n",
      "                                                   'exclusive',\n",
      "                                                   'limited_edition',\n",
      "                                                   'limited_time_offer',\n",
      "                                                   'online_only'])])),\n",
      "                ('ridge', Ridge(alpha=10.0))])\n",
      "best CV MSE: 0.911\n",
      "test MSE: 1.066\n"
     ]
    }
   ],
   "source": [
    "# Ridge\n",
    "ridge_param_grid = {'ridge__alpha': np.logspace(-3, 3, num=7)}\n",
    "ridge_grid, ftrs, X_test, y_test, ridge_test_score = ML_pipeline_kfold_GridSearchCV(X, y, groups, Ridge(), ridge_param_grid, 63, 5)\n",
    "ridge_results = pd.DataFrame(ridge_grid.cv_results_)\n",
    "print(ridge_grid.best_estimator_)\n",
    "print('best CV MSE:', -np.around(ridge_grid.best_score_, 3))\n",
    "print('test MSE:', -np.around(ridge_test_score, 3))"
   ]
  },
  {
   "cell_type": "code",
   "execution_count": 68,
   "metadata": {},
   "outputs": [
    {
     "name": "stdout",
     "output_type": "stream",
     "text": [
      "Pipeline(steps=[('columntransformer',\n",
      "                 ColumnTransformer(transformers=[('num',\n",
      "                                                  Pipeline(steps=[('scaler',\n",
      "                                                                   StandardScaler())]),\n",
      "                                                  ['love', 'number_of_reviews',\n",
      "                                                   'price']),\n",
      "                                                 ('cat',\n",
      "                                                  Pipeline(steps=[('onehot',\n",
      "                                                                   OneHotEncoder(handle_unknown='ignore',\n",
      "                                                                                 sparse=False))]),\n",
      "                                                  ['MarketingFlags', 'category',\n",
      "                                                   'exclusive',\n",
      "                                                   'limited_edition',\n",
      "                                                   'limited_time_offer',\n",
      "                                                   'online_only'])])),\n",
      "                ('elasticnet',\n",
      "                 ElasticNet(alpha=0.001, l1_ratio=0.30000000000000004,\n",
      "                            max_iter=10000))])\n",
      "best CV score: 0.91\n",
      "test MSE: 1.066\n"
     ]
    }
   ],
   "source": [
    "# Elastic Net\n",
    "elasticnet_param_grid = {'elasticnet__alpha': np.logspace(-3, 3, num=7),\n",
    "                   'elasticnet__l1_ratio': np.linspace(0, 1, 11)}\n",
    "elasticnet_grid, ftrs, X_test, y_test, elasticnet_test_score = ML_pipeline_kfold_GridSearchCV(X, y, groups, ElasticNet(max_iter=10000), elasticnet_param_grid, 63, 5)\n",
    "print(elasticnet_grid.best_estimator_)\n",
    "print('best CV score:', -np.around(elasticnet_grid.best_score_, 3))\n",
    "print('test MSE:', -np.around(elasticnet_test_score, 3))"
   ]
  },
  {
   "cell_type": "code",
   "execution_count": 69,
   "metadata": {},
   "outputs": [
    {
     "name": "stdout",
     "output_type": "stream",
     "text": [
      "Pipeline(steps=[('columntransformer',\n",
      "                 ColumnTransformer(transformers=[('num',\n",
      "                                                  Pipeline(steps=[('scaler',\n",
      "                                                                   StandardScaler())]),\n",
      "                                                  ['love', 'number_of_reviews',\n",
      "                                                   'price']),\n",
      "                                                 ('cat',\n",
      "                                                  Pipeline(steps=[('onehot',\n",
      "                                                                   OneHotEncoder(handle_unknown='ignore',\n",
      "                                                                                 sparse=False))]),\n",
      "                                                  ['MarketingFlags', 'category',\n",
      "                                                   'exclusive',\n",
      "                                                   'limited_edition',\n",
      "                                                   'limited_time_offer',\n",
      "                                                   'online_only'])])),\n",
      "                ('kneighborsregressor',\n",
      "                 KNeighborsRegressor(n_neighbors=100, weights='distance'))])\n",
      "best CV score: 0.843\n",
      "test MSE: 0.921\n"
     ]
    }
   ],
   "source": [
    "# KNN\n",
    "from sklearn.neighbors import KNeighborsRegressor\n",
    "knn_param_grid = {'kneighborsregressor__n_neighbors': [1, 10, 30, 100],\n",
    "                'kneighborsregressor__weights': ['uniform', 'distance']}\n",
    "knn_grid, ftrs, X_test, y_test, knn_test_score = ML_pipeline_kfold_GridSearchCV(X, y, groups, KNeighborsRegressor(), knn_param_grid, 63, 5)\n",
    "print(knn_grid.best_estimator_)\n",
    "print('best CV score:', -np.around(knn_grid.best_score_, 3))\n",
    "print('test MSE:', -np.around(knn_test_score, 3))"
   ]
  },
  {
   "cell_type": "code",
   "execution_count": 71,
   "metadata": {},
   "outputs": [
    {
     "name": "stdout",
     "output_type": "stream",
     "text": [
      "Pipeline(steps=[('columntransformer',\n",
      "                 ColumnTransformer(transformers=[('num',\n",
      "                                                  Pipeline(steps=[('scaler',\n",
      "                                                                   StandardScaler())]),\n",
      "                                                  ['love', 'number_of_reviews',\n",
      "                                                   'price']),\n",
      "                                                 ('cat',\n",
      "                                                  Pipeline(steps=[('onehot',\n",
      "                                                                   OneHotEncoder(handle_unknown='ignore',\n",
      "                                                                                 sparse=False))]),\n",
      "                                                  ['MarketingFlags', 'category',\n",
      "                                                   'exclusive',\n",
      "                                                   'limited_edition',\n",
      "                                                   'limited_time_offer',\n",
      "                                                   'online_only'])])),\n",
      "                ('randomforestregressor',\n",
      "                 RandomForestRegressor(max_depth=30.0, max_features=0.9,\n",
      "                                       random_state=63))])\n",
      "best CV score: 0.264\n",
      "test MSE: 0.301\n"
     ]
    }
   ],
   "source": [
    "# Random Forest\n",
    "rf_param_grid = {'randomforestregressor__max_depth': np.linspace(10, 210, 11), \n",
    "                 'randomforestregressor__max_features': np.linspace(0.5, 1.0, 11)}\n",
    "rf_grid, ftrs, X_test, y_test, rf_test_score = ML_pipeline_kfold_GridSearchCV(X, y, groups, RandomForestRegressor(n_estimators=100, random_state=63), \n",
    "                                                        rf_param_grid, 63, 5)\n",
    "print(rf_grid.best_estimator_)\n",
    "print('best CV score:', -np.around(rf_grid.best_score_, 3))\n",
    "print('test MSE:', -np.around(rf_test_score, 3))"
   ]
  },
  {
   "cell_type": "code",
   "execution_count": 115,
   "metadata": {},
   "outputs": [
    {
     "name": "stdout",
     "output_type": "stream",
     "text": [
      "Pipeline(steps=[('columntransformer',\n",
      "                 ColumnTransformer(transformers=[('num',\n",
      "                                                  Pipeline(steps=[('scaler',\n",
      "                                                                   StandardScaler())]),\n",
      "                                                  ['love', 'number_of_reviews',\n",
      "                                                   'price']),\n",
      "                                                 ('cat',\n",
      "                                                  Pipeline(steps=[('onehot',\n",
      "                                                                   OneHotEncoder(handle_unknown='ignore',\n",
      "                                                                                 sparse=False))]),\n",
      "                                                  ['MarketingFlags', 'category',\n",
      "                                                   'exclusive',\n",
      "                                                   'limited_edition',\n",
      "                                                   'limited_time_offer',\n",
      "                                                   'online_only'])])),\n",
      "                ('randomforestregressor',\n",
      "                 RandomForestRegressor(max_depth=10.0, max_features=0.6,\n",
      "                                       random_state=630))])\n",
      "best CV score: 0.273\n",
      "test MSE: 0.294\n"
     ]
    }
   ],
   "source": [
    "# Random Forest with different random state\n",
    "rf_param_grid2 = {'randomforestregressor__max_depth': np.linspace(10, 210, 11), \n",
    "                 'randomforestregressor__max_features': np.linspace(0.5, 1.0, 11)}\n",
    "rf_grid2, ftrs, X_test, y_test, rf_test_score2 = ML_pipeline_kfold_GridSearchCV(X, y, groups, RandomForestRegressor(n_estimators=100, random_state=630), \n",
    "                                                        rf_param_grid, 630, 5)\n",
    "print(rf_grid2.best_estimator_)\n",
    "print('best CV score:', -np.around(rf_grid2.best_score_, 3))\n",
    "print('test MSE:', -np.around(rf_test_score2, 3))"
   ]
  },
  {
   "cell_type": "code",
   "execution_count": 73,
   "metadata": {},
   "outputs": [
    {
     "data": {
      "text/html": [
       "<div>\n",
       "<style scoped>\n",
       "    .dataframe tbody tr th:only-of-type {\n",
       "        vertical-align: middle;\n",
       "    }\n",
       "\n",
       "    .dataframe tbody tr th {\n",
       "        vertical-align: top;\n",
       "    }\n",
       "\n",
       "    .dataframe thead th {\n",
       "        text-align: right;\n",
       "    }\n",
       "</style>\n",
       "<table border=\"1\" class=\"dataframe\">\n",
       "  <thead>\n",
       "    <tr style=\"text-align: right;\">\n",
       "      <th></th>\n",
       "      <th>Model</th>\n",
       "      <th>parameters</th>\n",
       "    </tr>\n",
       "  </thead>\n",
       "  <tbody>\n",
       "    <tr>\n",
       "      <th>0</th>\n",
       "      <td>Lasso Regression</td>\n",
       "      <td>alpha = [0.001, 0.01, 0.1, 1, 10, 100, 1000]</td>\n",
       "    </tr>\n",
       "    <tr>\n",
       "      <th>1</th>\n",
       "      <td>Ridge Regression</td>\n",
       "      <td>alpha = [0.001, 0.01, 0.1, 1, 10, 100, 1000]</td>\n",
       "    </tr>\n",
       "    <tr>\n",
       "      <th>2</th>\n",
       "      <td>Elastic Net Regularized Regression</td>\n",
       "      <td>alpha = [0.001, 0.01, 0.1, 1, 10, 100, 1000], ...</td>\n",
       "    </tr>\n",
       "    <tr>\n",
       "      <th>3</th>\n",
       "      <td>K-Nearest Neighbors Regressor</td>\n",
       "      <td>n_neighbors = [1, 10, 30, 100], weights = [\"di...</td>\n",
       "    </tr>\n",
       "    <tr>\n",
       "      <th>4</th>\n",
       "      <td>Random Forest Regressor</td>\n",
       "      <td>max_depth = [10, 30, 50, 70, 90, 110, 130, 150...</td>\n",
       "    </tr>\n",
       "  </tbody>\n",
       "</table>\n",
       "</div>"
      ],
      "text/plain": [
       "                                Model  \\\n",
       "0                    Lasso Regression   \n",
       "1                    Ridge Regression   \n",
       "2  Elastic Net Regularized Regression   \n",
       "3       K-Nearest Neighbors Regressor   \n",
       "4             Random Forest Regressor   \n",
       "\n",
       "                                          parameters  \n",
       "0       alpha = [0.001, 0.01, 0.1, 1, 10, 100, 1000]  \n",
       "1       alpha = [0.001, 0.01, 0.1, 1, 10, 100, 1000]  \n",
       "2  alpha = [0.001, 0.01, 0.1, 1, 10, 100, 1000], ...  \n",
       "3  n_neighbors = [1, 10, 30, 100], weights = [\"di...  \n",
       "4  max_depth = [10, 30, 50, 70, 90, 110, 130, 150...  "
      ]
     },
     "execution_count": 73,
     "metadata": {},
     "output_type": "execute_result"
    }
   ],
   "source": [
    "data_model = {'Model':  ['Lasso Regression', 'Ridge Regression','Elastic Net Regularized Regression', 'K-Nearest Neighbors Regressor', 'Random Forest Regressor'],\n",
    "              'parameters':  ['alpha = [0.001, 0.01, 0.1, 1, 10, 100, 1000]', \n",
    "                              'alpha = [0.001, 0.01, 0.1, 1, 10, 100, 1000]', \n",
    "                              'alpha = [0.001, 0.01, 0.1, 1, 10, 100, 1000], l1_ratio = [0, 0.1, 0.2, 0.3, 0.4, 0.5, 0.6, 0.7, 0.8, 0.9, 1]', \n",
    "                              'n_neighbors = [1, 10, 30, 100], weights = [\"distance\", \"uniform\"]', \n",
    "                              'max_depth = [10, 30, 50, 70, 90, 110, 130, 150, 170, 190, 210], max_features = [0.5, 0.55, 0.6, 0.65, 0.7, 0.75, 0.8, 0.85, 0.9, 0.95, 1]']\n",
    "        }\n",
    "df_model = pd.DataFrame(data_model, columns = ['Model','parameters'])\n",
    "df_model"
   ]
  },
  {
   "cell_type": "code",
   "execution_count": 74,
   "metadata": {},
   "outputs": [
    {
     "data": {
      "text/html": [
       "<div>\n",
       "<style scoped>\n",
       "    .dataframe tbody tr th:only-of-type {\n",
       "        vertical-align: middle;\n",
       "    }\n",
       "\n",
       "    .dataframe tbody tr th {\n",
       "        vertical-align: top;\n",
       "    }\n",
       "\n",
       "    .dataframe thead th {\n",
       "        text-align: right;\n",
       "    }\n",
       "</style>\n",
       "<table border=\"1\" class=\"dataframe\">\n",
       "  <thead>\n",
       "    <tr style=\"text-align: right;\">\n",
       "      <th></th>\n",
       "      <th>Model</th>\n",
       "      <th>Best parameters</th>\n",
       "      <th>Test MSE</th>\n",
       "    </tr>\n",
       "  </thead>\n",
       "  <tbody>\n",
       "    <tr>\n",
       "      <th>0</th>\n",
       "      <td>Lasso Regression</td>\n",
       "      <td>alpha = 0.001</td>\n",
       "      <td>1.067</td>\n",
       "    </tr>\n",
       "    <tr>\n",
       "      <th>1</th>\n",
       "      <td>Ridge Regression</td>\n",
       "      <td>alpha = 10.0</td>\n",
       "      <td>1.066</td>\n",
       "    </tr>\n",
       "    <tr>\n",
       "      <th>2</th>\n",
       "      <td>Elastic Net Regularized Regression</td>\n",
       "      <td>alpha = 0.001, l1_ratio = 0.3</td>\n",
       "      <td>1.066</td>\n",
       "    </tr>\n",
       "    <tr>\n",
       "      <th>3</th>\n",
       "      <td>K-Nearest Neighbors Regressor</td>\n",
       "      <td>n_neighbors = 100, weights = \"distance\"</td>\n",
       "      <td>0.921</td>\n",
       "    </tr>\n",
       "    <tr>\n",
       "      <th>4</th>\n",
       "      <td>Random Forest Regressor</td>\n",
       "      <td>max_depth = 30.0, max_features = 0.9</td>\n",
       "      <td>0.294</td>\n",
       "    </tr>\n",
       "  </tbody>\n",
       "</table>\n",
       "</div>"
      ],
      "text/plain": [
       "                                Model  \\\n",
       "0                    Lasso Regression   \n",
       "1                    Ridge Regression   \n",
       "2  Elastic Net Regularized Regression   \n",
       "3       K-Nearest Neighbors Regressor   \n",
       "4             Random Forest Regressor   \n",
       "\n",
       "                           Best parameters  Test MSE  \n",
       "0                            alpha = 0.001     1.067  \n",
       "1                             alpha = 10.0     1.066  \n",
       "2            alpha = 0.001, l1_ratio = 0.3     1.066  \n",
       "3  n_neighbors = 100, weights = \"distance\"     0.921  \n",
       "4     max_depth = 30.0, max_features = 0.9     0.294  "
      ]
     },
     "execution_count": 74,
     "metadata": {},
     "output_type": "execute_result"
    }
   ],
   "source": [
    "data_model = {'Model':  ['Lasso Regression', 'Ridge Regression','Elastic Net Regularized Regression', 'K-Nearest Neighbors Regressor', 'Random Forest Regressor'],\n",
    "              'Best parameters':  ['alpha = 0.001', \n",
    "                                   'alpha = 10.0', \n",
    "                                   'alpha = 0.001, l1_ratio = 0.3', 'n_neighbors = 100, weights = \"distance\"', 'max_depth = 30.0, max_features = 0.9'],\n",
    "              'Test MSE': [1.067, 1.066, 1.066, 0.921, 0.294]\n",
    "        }\n",
    "# lasso_grid.best_estimator_[1]\n",
    "# ridge_grid.best_estimator_[1]\n",
    "# elasticnet_grid.best_estimator_[1]\n",
    "# knn_grid.best_estimator_[1]\n",
    "# rf_grid.best_estimator_[1]\n",
    "df_model = pd.DataFrame (data_model, columns = ['Model','Best parameters', 'Test MSE'])\n",
    "df_model"
   ]
  },
  {
   "cell_type": "code",
   "execution_count": 122,
   "metadata": {},
   "outputs": [
    {
     "name": "stdout",
     "output_type": "stream",
     "text": [
      "1.033\n",
      "1.033\n",
      "1.032\n",
      "0.96\n",
      "0.549\n"
     ]
    }
   ],
   "source": [
    "# test RMSE\n",
    "print(round(np.sqrt(-ridge_test_score), 3))\n",
    "print(round(np.sqrt(-lasso_test_score), 3))\n",
    "print(round(np.sqrt(-elasticnet_test_score), 3))\n",
    "print(round(np.sqrt(-knn_test_score), 3))\n",
    "print(round(np.sqrt(-rf_test_score), 3))"
   ]
  },
  {
   "cell_type": "code",
   "execution_count": 124,
   "metadata": {},
   "outputs": [
    {
     "name": "stdout",
     "output_type": "stream",
     "text": [
      "-0.0\n",
      "0.879\n",
      "1.009\n",
      "0.301\n",
      "1.004\n",
      "0.549\n"
     ]
    }
   ],
   "source": [
    "# compare to test scores to a baseline score,\n",
    "splitter = GroupShuffleSplit(n_splits=1,test_size=0.2,random_state=63)\n",
    "for i_other,i_test in splitter.split(X, y, groups):\n",
    "    X_other, y_other, groups_other = X.iloc[i_other], y.iloc[i_other], groups.iloc[i_other]\n",
    "\n",
    "y_pred = [np.mean(y_other)] * len(y_test)\n",
    "r_score_base = np.around(r2_score(y_test, y_pred), 3)\n",
    "r_score_rf = np.around(r2_score(y_test, rf_grid.best_estimator_.predict(X_test)), 3)\n",
    "mse_base = np.around(mean_squared_error(y_test, y_pred), 3)\n",
    "mse_rf = -np.around(rf_test_score, 3)\n",
    "rmse_base = np.around(np.sqrt(mse_base), 3)\n",
    "rmse_rf = np.around(np.sqrt(mse_rf), 3)\n",
    "print(r_score_base)\n",
    "print(r_score_rf)\n",
    "print(mse_base)\n",
    "print(mse_rf)\n",
    "print(rmse_base)\n",
    "print(rmse_rf)"
   ]
  },
  {
   "cell_type": "code",
   "execution_count": 125,
   "metadata": {},
   "outputs": [
    {
     "name": "stdout",
     "output_type": "stream",
     "text": [
      "0.453\n"
     ]
    }
   ],
   "source": [
    "# calculate how many standard deviations above the baseline\n",
    "print(np.around(abs(rmse_rf - rmse_base)/np.std(y_test), 3))"
   ]
  },
  {
   "cell_type": "code",
   "execution_count": 77,
   "metadata": {},
   "outputs": [],
   "source": [
    "# save the output so I can use it later\n",
    "import pickle\n",
    "file = open('../results/grid.save', 'wb')\n",
    "pickle.dump((rf_grid,X_test,y_test),file)\n",
    "file.close()"
   ]
  },
  {
   "cell_type": "code",
   "execution_count": 78,
   "metadata": {},
   "outputs": [
    {
     "name": "stdout",
     "output_type": "stream",
     "text": [
      "test score =  0.30085689448192493\n",
      "test baseline =  0.04904632152588556\n",
      "shuffling MarketingFlags\n",
      "   shuffled test score: 0.3 +/- 0.001\n",
      "shuffling category\n",
      "   shuffled test score: 0.34 +/- 0.006\n",
      "shuffling exclusive\n",
      "   shuffled test score: 0.301 +/- 0.001\n",
      "shuffling limited_edition\n",
      "   shuffled test score: 0.302 +/- 0.001\n",
      "shuffling limited_time_offer\n",
      "   shuffled test score: 0.301 +/- 0.0\n",
      "shuffling love\n",
      "   shuffled test score: 0.319 +/- 0.005\n",
      "shuffling number_of_reviews\n",
      "   shuffled test score: 1.876 +/- 0.037\n",
      "shuffling online_only\n",
      "   shuffled test score: 0.301 +/- 0.001\n",
      "shuffling price\n",
      "   shuffled test score: 0.329 +/- 0.005\n"
     ]
    }
   ],
   "source": [
    "import pickle\n",
    "file = open('../results/grid.save', 'rb')\n",
    "grid, X_test, y_test = pickle.load(file)\n",
    "file.close()\n",
    "\n",
    "np.random.seed(63)\n",
    "ftr_names = X_test.columns\n",
    "nr_runs = 10\n",
    "scores = np.zeros([len(ftr_names),nr_runs])\n",
    "\n",
    "test_score = rf_grid.score(X_test,y_test)\n",
    "print('test score = ', -test_score)\n",
    "print('test baseline = ',np.sum(y_test == 0)/len(y_test))\n",
    "# loop through the features\n",
    "for i in range(len(ftr_names)):\n",
    "    print('shuffling ' + str(ftr_names[i]))\n",
    "    mse_scores = []\n",
    "    for j in range(nr_runs):\n",
    "        X_test_shuffled = X_test.copy()\n",
    "        X_test_shuffled[ftr_names[i]] = np.random.permutation(X_test[ftr_names[i]].values)\n",
    "        mse_scores.append(rf_grid.score(X_test_shuffled,y_test))\n",
    "    print('   shuffled test score:',np.around(-np.mean(mse_scores),3),'+/-',np.around(np.std(mse_scores),3))\n",
    "    scores[i] = mse_scores"
   ]
  },
  {
   "cell_type": "code",
   "execution_count": 113,
   "metadata": {},
   "outputs": [
    {
     "data": {
      "image/png": "[encoded data removed]",
      "text/plain": [
       "<Figure size 576x432 with 1 Axes>"
      ]
     },
     "metadata": {
      "needs_background": "light"
     },
     "output_type": "display_data"
    }
   ],
   "source": [
    "# 10 most important feature\n",
    "indices_top = np.argsort(rf_grid.best_estimator_[1].feature_importances_)[::-1][:10]\n",
    "d_top = {'ftr_imp_top': rf_grid.best_estimator_[1].feature_importances_[indices_top]}\n",
    "df_top = pd.DataFrame(d_top, index=ftrs[indices_top]).plot.bar(legend=None, figsize=(8, 6), color='darkorange')\n",
    "plt.ylabel('feature importance')\n",
    "plt.savefig('../figures/feature_most_imp.jpg', dpi=300, bbox_inches = 'tight')\n",
    "plt.show()"
   ]
  },
  {
   "cell_type": "code",
   "execution_count": 114,
   "metadata": {},
   "outputs": [
    {
     "data": {
      "image/png": "[encoded data removed]",
      "text/plain": [
       "<Figure size 576x432 with 1 Axes>"
      ]
     },
     "metadata": {
      "needs_background": "light"
     },
     "output_type": "display_data"
    }
   ],
   "source": [
    "# 10 least important feature\n",
    "indices_least = np.argsort(rf_grid.best_estimator_[1].feature_importances_)[:10][::-1]\n",
    "d_least = {'ftr_imp_least': rf_grid.best_estimator_[1].feature_importances_[indices_least]}\n",
    "pd.DataFrame(d_least, index=ftrs[indices_least]).plot.bar(legend=None, figsize=(8, 6))\n",
    "plt.ylabel('feature importance')\n",
    "plt.savefig('../figures/feature_least_imp.jpg', dpi=300, bbox_inches = 'tight')\n",
    "plt.show()"
   ]
  }
 ],
 "metadata": {
  "kernelspec": {
   "display_name": "Python 3",
   "language": "python",
   "name": "python3"
  },
  "language_info": {
   "codemirror_mode": {
    "name": "ipython",
    "version": 3
   },
   "file_extension": ".py",
   "mimetype": "text/x-python",
   "name": "python",
   "nbconvert_exporter": "python",
   "pygments_lexer": "ipython3",
   "version": "3.7.8"
  }
 },
 "nbformat": 4,
 "nbformat_minor": 4
}
